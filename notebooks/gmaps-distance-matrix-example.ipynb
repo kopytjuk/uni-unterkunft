{
 "cells": [
  {
   "cell_type": "markdown",
   "metadata": {},
   "source": [
    "# Sample GMAPS distance matrix query"
   ]
  },
  {
   "cell_type": "code",
   "execution_count": 1,
   "metadata": {},
   "outputs": [],
   "source": [
    "from dotenv import load_dotenv"
   ]
  },
  {
   "cell_type": "code",
   "execution_count": 2,
   "metadata": {},
   "outputs": [
    {
     "data": {
      "text/plain": [
       "True"
      ]
     },
     "execution_count": 2,
     "metadata": {},
     "output_type": "execute_result"
    }
   ],
   "source": [
    "load_dotenv()"
   ]
  },
  {
   "cell_type": "code",
   "execution_count": 3,
   "metadata": {},
   "outputs": [],
   "source": [
    "import os\n",
    "from datetime import datetime\n",
    "\n",
    "import googlemaps"
   ]
  },
  {
   "cell_type": "code",
   "execution_count": 4,
   "metadata": {},
   "outputs": [],
   "source": [
    "gmaps = googlemaps.Client(key=os.environ[\"GMAPS_DIRECTIONS_KEY\"])"
   ]
  },
  {
   "cell_type": "code",
   "execution_count": 5,
   "metadata": {},
   "outputs": [
    {
     "data": {
      "text/plain": [
       "\u001b[1;31mSignature:\u001b[0m\n",
       "\u001b[0mgmaps\u001b[0m\u001b[1;33m.\u001b[0m\u001b[0mdistance_matrix\u001b[0m\u001b[1;33m(\u001b[0m\u001b[1;33m\n",
       "\u001b[0m    \u001b[0morigins\u001b[0m\u001b[1;33m,\u001b[0m\u001b[1;33m\n",
       "\u001b[0m    \u001b[0mdestinations\u001b[0m\u001b[1;33m,\u001b[0m\u001b[1;33m\n",
       "\u001b[0m    \u001b[0mmode\u001b[0m\u001b[1;33m=\u001b[0m\u001b[1;32mNone\u001b[0m\u001b[1;33m,\u001b[0m\u001b[1;33m\n",
       "\u001b[0m    \u001b[0mlanguage\u001b[0m\u001b[1;33m=\u001b[0m\u001b[1;32mNone\u001b[0m\u001b[1;33m,\u001b[0m\u001b[1;33m\n",
       "\u001b[0m    \u001b[0mavoid\u001b[0m\u001b[1;33m=\u001b[0m\u001b[1;32mNone\u001b[0m\u001b[1;33m,\u001b[0m\u001b[1;33m\n",
       "\u001b[0m    \u001b[0munits\u001b[0m\u001b[1;33m=\u001b[0m\u001b[1;32mNone\u001b[0m\u001b[1;33m,\u001b[0m\u001b[1;33m\n",
       "\u001b[0m    \u001b[0mdeparture_time\u001b[0m\u001b[1;33m=\u001b[0m\u001b[1;32mNone\u001b[0m\u001b[1;33m,\u001b[0m\u001b[1;33m\n",
       "\u001b[0m    \u001b[0marrival_time\u001b[0m\u001b[1;33m=\u001b[0m\u001b[1;32mNone\u001b[0m\u001b[1;33m,\u001b[0m\u001b[1;33m\n",
       "\u001b[0m    \u001b[0mtransit_mode\u001b[0m\u001b[1;33m=\u001b[0m\u001b[1;32mNone\u001b[0m\u001b[1;33m,\u001b[0m\u001b[1;33m\n",
       "\u001b[0m    \u001b[0mtransit_routing_preference\u001b[0m\u001b[1;33m=\u001b[0m\u001b[1;32mNone\u001b[0m\u001b[1;33m,\u001b[0m\u001b[1;33m\n",
       "\u001b[0m    \u001b[0mtraffic_model\u001b[0m\u001b[1;33m=\u001b[0m\u001b[1;32mNone\u001b[0m\u001b[1;33m,\u001b[0m\u001b[1;33m\n",
       "\u001b[0m    \u001b[0mregion\u001b[0m\u001b[1;33m=\u001b[0m\u001b[1;32mNone\u001b[0m\u001b[1;33m,\u001b[0m\u001b[1;33m\n",
       "\u001b[0m\u001b[1;33m)\u001b[0m\u001b[1;33m\u001b[0m\u001b[1;33m\u001b[0m\u001b[0m\n",
       "\u001b[1;31mDocstring:\u001b[0m\n",
       "Gets travel distance and time for a matrix of origins and destinations.\n",
       "\n",
       ":param origins: One or more locations and/or latitude/longitude values,\n",
       "    from which to calculate distance and time. If you pass an address as\n",
       "    a string, the service will geocode the string and convert it to a\n",
       "    latitude/longitude coordinate to calculate directions.\n",
       ":type origins: a single location, or a list of locations, where a\n",
       "    location is a string, dict, list, or tuple\n",
       "\n",
       ":param destinations: One or more addresses and/or lat/lng values, to\n",
       "    which to calculate distance and time. If you pass an address as a\n",
       "    string, the service will geocode the string and convert it to a\n",
       "    latitude/longitude coordinate to calculate directions.\n",
       ":type destinations: a single location, or a list of locations, where a\n",
       "    location is a string, dict, list, or tuple\n",
       "\n",
       ":param mode: Specifies the mode of transport to use when calculating\n",
       "    directions. Valid values are \"driving\", \"walking\", \"transit\" or\n",
       "    \"bicycling\".\n",
       ":type mode: string\n",
       "\n",
       ":param language: The language in which to return results.\n",
       ":type language: string\n",
       "\n",
       ":param avoid: Indicates that the calculated route(s) should avoid the\n",
       "    indicated features. Valid values are \"tolls\", \"highways\" or \"ferries\".\n",
       ":type avoid: string\n",
       "\n",
       ":param units: Specifies the unit system to use when displaying results.\n",
       "    Valid values are \"metric\" or \"imperial\".\n",
       ":type units: string\n",
       "\n",
       ":param departure_time: Specifies the desired time of departure.\n",
       ":type departure_time: int or datetime.datetime\n",
       "\n",
       ":param arrival_time: Specifies the desired time of arrival for transit\n",
       "    directions. Note: you can't specify both departure_time and\n",
       "    arrival_time.\n",
       ":type arrival_time: int or datetime.datetime\n",
       "\n",
       ":param transit_mode: Specifies one or more preferred modes of transit.\n",
       "    This parameter may only be specified for requests where the mode is\n",
       "    transit. Valid values are \"bus\", \"subway\", \"train\", \"tram\", \"rail\".\n",
       "    \"rail\" is equivalent to [\"train\", \"tram\", \"subway\"].\n",
       ":type transit_mode: string or list of strings\n",
       "\n",
       ":param transit_routing_preference: Specifies preferences for transit\n",
       "    requests. Valid values are \"less_walking\" or \"fewer_transfers\".\n",
       ":type transit_routing_preference: string\n",
       "\n",
       ":param traffic_model: Specifies the predictive travel time model to use.\n",
       "    Valid values are \"best_guess\" or \"optimistic\" or \"pessimistic\".\n",
       "    The traffic_model parameter may only be specified for requests where\n",
       "    the travel mode is driving, and where the request includes a\n",
       "    departure_time.\n",
       "\n",
       ":param region: Specifies the prefered region the geocoder should search\n",
       "    first, but it will not restrict the results to only this region. Valid\n",
       "    values are a ccTLD code.\n",
       ":type region: string\n",
       "\n",
       ":rtype: matrix of distances. Results are returned in rows, each row\n",
       "    containing one origin paired with each destination.\n",
       "\u001b[1;31mFile:\u001b[0m      c:\\programdata\\anaconda3\\lib\\site-packages\\googlemaps\\distance_matrix.py\n",
       "\u001b[1;31mType:\u001b[0m      method\n"
      ]
     },
     "metadata": {},
     "output_type": "display_data"
    }
   ],
   "source": [
    "gmaps.distance_matrix?"
   ]
  },
  {
   "cell_type": "code",
   "execution_count": 6,
   "metadata": {},
   "outputs": [],
   "source": [
    "origin_loc = (49.146468, 9.221350)\n",
    "destination_loc = (49.080050, 9.308849)"
   ]
  },
  {
   "cell_type": "code",
   "execution_count": 7,
   "metadata": {},
   "outputs": [
    {
     "data": {
      "text/plain": [
       "{'destination_addresses': ['Abstatter Str., 74199 Untergruppenbach, Germany'],\n",
       " 'origin_addresses': ['Weinsberger Str. 1-3, 74072 Heilbronn, Germany'],\n",
       " 'rows': [{'elements': [{'distance': {'text': '13.3 km', 'value': 13256},\n",
       "     'duration': {'text': '19 mins', 'value': 1159},\n",
       "     'duration_in_traffic': {'text': '21 mins', 'value': 1250},\n",
       "     'status': 'OK'}]}],\n",
       " 'status': 'OK'}"
      ]
     },
     "execution_count": 7,
     "metadata": {},
     "output_type": "execute_result"
    }
   ],
   "source": [
    "gmaps.distance_matrix(origin_loc, destination_loc,\n",
    "                mode=\"driving\", units=\"metric\", \n",
    "                departure_time=datetime(2019, 8, 30, 16, 51))"
   ]
  },
  {
   "cell_type": "code",
   "execution_count": null,
   "metadata": {},
   "outputs": [],
   "source": []
  }
 ],
 "metadata": {
  "kernelspec": {
   "display_name": "Python 3",
   "language": "python",
   "name": "python3"
  },
  "language_info": {
   "codemirror_mode": {
    "name": "ipython",
    "version": 3
   },
   "file_extension": ".py",
   "mimetype": "text/x-python",
   "name": "python",
   "nbconvert_exporter": "python",
   "pygments_lexer": "ipython3",
   "version": "3.7.3"
  }
 },
 "nbformat": 4,
 "nbformat_minor": 4
}
